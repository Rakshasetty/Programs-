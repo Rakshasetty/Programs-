{
  "nbformat": 4,
  "nbformat_minor": 0,
  "metadata": {
    "colab": {
      "provenance": []
    },
    "kernelspec": {
      "name": "python3",
      "display_name": "Python 3"
    },
    "language_info": {
      "name": "python"
    }
  },
  "cells": [
    {
      "cell_type": "markdown",
      "source": [
        "Q1. What are the two latest user-defined exception constraints in Python 3.X?\n",
        "Ans: \"raise\" and \"assert\" are the two latest user-defined exception constraints in Python 3.X\n",
        "\n",
        "Q2. How are class-based exceptions that have been raised matched to handlers?\n",
        "Ans: We can define custom exceptions by creating a new class. This exception class has to be derived, either directly or indirectly from built-in \"Exception\" class. After making a custum class for exception we can \"raise\" statement with an optional error message as we want."
      ],
      "metadata": {
        "id": "Jltm4PG-nI94"
      }
    },
    {
      "cell_type": "code",
      "source": [
        "class Custom_Exception(Exception):  \n",
        "    def __init__(self,error):\n",
        "        self.error = error\n",
        "a = 17\n",
        "if a != 18 : raise Custom_Exception('Value provided in program is wrong')"
      ],
      "metadata": {
        "colab": {
          "base_uri": "https://localhost:8080/",
          "height": 209
        },
        "id": "nowFSulFnLb2",
        "outputId": "dfbbc939-2171-462c-ab5e-21b59a4ead1f"
      },
      "execution_count": 1,
      "outputs": [
        {
          "output_type": "error",
          "ename": "Custom_Exception",
          "evalue": "ignored",
          "traceback": [
            "\u001b[0;31m---------------------------------------------------------------------------\u001b[0m",
            "\u001b[0;31mCustom_Exception\u001b[0m                          Traceback (most recent call last)",
            "\u001b[0;32m<ipython-input-1-1bf66677f3ca>\u001b[0m in \u001b[0;36m<module>\u001b[0;34m\u001b[0m\n\u001b[1;32m      3\u001b[0m         \u001b[0mself\u001b[0m\u001b[0;34m.\u001b[0m\u001b[0merror\u001b[0m \u001b[0;34m=\u001b[0m \u001b[0merror\u001b[0m\u001b[0;34m\u001b[0m\u001b[0;34m\u001b[0m\u001b[0m\n\u001b[1;32m      4\u001b[0m \u001b[0ma\u001b[0m \u001b[0;34m=\u001b[0m \u001b[0;36m17\u001b[0m\u001b[0;34m\u001b[0m\u001b[0;34m\u001b[0m\u001b[0m\n\u001b[0;32m----> 5\u001b[0;31m \u001b[0;32mif\u001b[0m \u001b[0ma\u001b[0m \u001b[0;34m!=\u001b[0m \u001b[0;36m18\u001b[0m \u001b[0;34m:\u001b[0m \u001b[0;32mraise\u001b[0m \u001b[0mCustom_Exception\u001b[0m\u001b[0;34m(\u001b[0m\u001b[0;34m'Value provided in program is wrong'\u001b[0m\u001b[0;34m)\u001b[0m\u001b[0;34m\u001b[0m\u001b[0;34m\u001b[0m\u001b[0m\n\u001b[0m",
            "\u001b[0;31mCustom_Exception\u001b[0m: Value provided in program is wrong"
          ]
        }
      ]
    },
    {
      "cell_type": "code",
      "source": [],
      "metadata": {
        "id": "7rqNnCocnWUF"
      },
      "execution_count": null,
      "outputs": []
    },
    {
      "cell_type": "markdown",
      "source": [
        "Q3. Describe two methods for attaching context information to exception artefacts ?\n",
        "Ans: The \"process()\" method of LoggerAdapter is where the contextual information is added to the logging output. its passes the message and keyword arguments of the logging call, and it passes back modified versions of these to use in the call to the underlying logger.\n",
        "\n",
        "Other method that can be used is \"exception()\", Logs a messgae with level ERROR on this logger. Exception info is added to the logging message.\n",
        "\n",
        "Q4. Describe two methods for specifying the text of an exception object's error message ?\n",
        "Ans: \"raise\" and \"assert\" are two methods for specifying the text of an exception object's error message.\"raise\" statement is used to trigger explicit exception, if certain condition is not as per requirement of programmer.\n",
        "\n",
        "There are few assertions that programmer always want to be True to avoid code failure. This type of requirment is fullfilled by \"assert\" statement. This statement takes a Boolean Condition output of which if True, further program executes. if output of assert statement is False it raises an \"Assertion Error\".\n",
        "\n",
        "Q5. Why do you no longer use string-based exceptions?\n",
        "Ans: This is because with string exceptions, F or examplethe ,exception raised is \"TypeError: unpack non-tuple\", while with class exceptions it is \"ValueError: unpack sequence of wrong size\". This is because a string is a sequence; we must assume that error messages are always more than two characters long."
      ],
      "metadata": {
        "id": "gY0R0c24nXTa"
      }
    },
    {
      "cell_type": "code",
      "source": [],
      "metadata": {
        "id": "KsZ7jbVFnYdv"
      },
      "execution_count": null,
      "outputs": []
    }
  ]
}