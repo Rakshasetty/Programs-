{
  "nbformat": 4,
  "nbformat_minor": 0,
  "metadata": {
    "colab": {
      "provenance": []
    },
    "kernelspec": {
      "name": "python3",
      "display_name": "Python 3"
    },
    "language_info": {
      "name": "python"
    }
  },
  "cells": [
    {
      "cell_type": "code",
      "execution_count": null,
      "metadata": {
        "id": "z_zDwUo4mUrh"
      },
      "outputs": [],
      "source": []
    },
    {
      "cell_type": "markdown",
      "source": [
        "Q1. What is the distinction between a numpy array and a pandas data frame? Is there a way to convert between the two if there is ?\n",
        "Ans: Numpy Ndarray provides a lot of convenient and optimized methods for performing several mathematical operations on vectors.\n",
        "\n",
        "Pandas Dataframe is an in-memory 2-dimensional tabular representation of data. In simpler words, it can be seen as a spreadsheet having rows and columns.\n",
        "\n",
        "Conversion : Dataframe=pandas.DataFrame(array)\n",
        "\n",
        "Q2. What can go wrong when an user enters in a stock-ticker symbol, and how do you handle it?\n",
        "Ans: When a user enters a stock ticker symbol, there are a few things that can go wrong:\n",
        "\n",
        "The user may enter an incorrect symbol: This can happen when the user mistypes the symbol or enters the wrong symbol for a company. To handle this, the system can check the entered symbol against a list of known symbols, and if it does not match, prompt the user to enter the correct symbol.\n",
        "\n",
        "The symbol may not be traded on the exchange: Some companies may not be listed on the exchange. To handle this, the system can check if the symbol is listed on the exchange, and if it's not, inform the user that the symbol is not listed on the exchange.\n",
        "\n",
        "The symbol may have been delisted: Some companies may have been delisted from the exchange. To handle this, the system can check if the symbol is still listed on the exchange and if it's not, inform the user that the symbol has been delisted.\n",
        "\n",
        "The stock exchange may be down or unavailable: In some cases, the exchange may be down for maintenance or due to a technical issue. To handle this, the system can check if the exchange is available and, if it's not, inform the user that the exchange is currently unavailable.\n",
        "\n",
        "The symbol may have a different meaning in different markets: Some symbols may have the same name but different meaning in different markets. To handle this, the system can check the market that the user is trying to access and inform the user of the correct symbol for that market.\n",
        "\n",
        "In order to handle these issues, a good practice would be to implement input validation and error handling mechanisms that check the entered symbol and inform the user of any issues or inaccuracies. Additionally, having a good source of data and frequently updating it would help to minimize the occurrence of these issues.\n",
        "\n",
        "Q3. Identify some of the plotting techniques that are used to produce a stock-market chart ?\n",
        "Ans: Bar chart, Line Chart are used for plotting.\n",
        "\n",
        "Q4. Why is it essential to print a legend on a stock market chart ?\n",
        "Ans: Legend will help comparison between different stocks, so will be essential on a stock market chart\n",
        "\n",
        "Q5. What is the best way to limit the length of a pandas data frame to less than a year ?\n",
        "Ans: We can use start and end parameters for that. In start we write the date from where we are starting and at the end we write the end date. SO within this span we can restric the duration.Also we can use the parameters like periods for how much times we need the duration and we can also use the frequency parameter.\n",
        "\n",
        "Q6. What is the definition of a 180-day moving average ?\n",
        "Ans: The 180-day moving average is represented as a line on charts and represents the average price over the past 180 days. The moving average can give traders a sense regarding whether the trend is up or down, while also identifying potential support or resistance areas.\n",
        "\n",
        "Q7. Did the chapter's final example use \"indirect\" importing? If so, how exactly do you do it?\n",
        "Ans: \"Indirect importing\" refers to a technique where a module imports another module, which in turn imports the desired module. This is generally considered an anti-pattern as it can make the code more difficult to understand and maintain. Instead, it's better to use the \"direct importing\" method, where the desired module is imported directly, making it clear which modules are being used and how they are related.\n",
        "\n",
        "However, if you meant by \"indirect importing\" an indirect import, which is an import statement that imports a module, but then accesses that module's attributes or functions through an alias. This can be done by importing the module and then creating an alias for it, for example,\n",
        "\n",
        "\" import module1 as alias \"\n",
        "\n",
        "This way, to access any function or attribute in module1, you would use the alias instead of writing the full name of the module."
      ],
      "metadata": {
        "id": "akJ4fzNsmYLz"
      }
    },
    {
      "cell_type": "code",
      "source": [],
      "metadata": {
        "id": "vYutq_1ZmZmm"
      },
      "execution_count": null,
      "outputs": []
    }
  ]
}