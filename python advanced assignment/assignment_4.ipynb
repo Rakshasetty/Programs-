{
  "nbformat": 4,
  "nbformat_minor": 0,
  "metadata": {
    "colab": {
      "provenance": []
    },
    "kernelspec": {
      "name": "python3",
      "display_name": "Python 3"
    },
    "language_info": {
      "name": "python"
    }
  },
  "cells": [
    {
      "cell_type": "markdown",
      "source": [
        "Q1. Which two operator overloading methods can you use in your classes to support iteration?\n",
        "Ans: \"_ _ iter _ \" and \" _ next _ _\" are the operator overloading methods in python that support iteration and are collectively called iterator protocol.\n",
        "\n",
        "\"_ _ iter _ _\" returns the iterator object and is called at the start of loop in our respective class.\n",
        "\n",
        "\"_ _ next _ _\" is called at each loop increment, it returns the incremented value. Also Stopiteration is raised when there is no value to return.\n",
        "\n",
        "Q2. In what contexts do the two operator overloading methods manage printing?\n",
        "Ans: \"_ _ str _ _ \" and \"_ _ repr _ _\" are two operator overloading methods that manage printing.\n",
        "\n",
        "Q3. In a class, how do you intercept slice operations?\n",
        "Ans: slice is a constructor in Python that creates slice object to represent set of indices that the range(start, stop, step) specifies._ _ getitem _ _ method can be implement in a class, and the behavior of slicing can be defined inside it.\n",
        "\n",
        "Q4. In a class, how do you capture in-place addition?\n",
        "Ans:\"a+=b\" is inplace addition operation. In this in-place addition \"a\" itself will store the value of addition. In a class \"_ _ iadd _ _\" method is used for this in-place operation\n",
        "\n",
        "Q5. When is it appropriate to use operator overloading?\n",
        "Ans: Operator Overloading means giving extended meaning beyond their predefined operational meaning. For example operator + is used to add two integers as well as join two strings and merge two lists. It is achievable because '+' operator is overloaded by int class and str class."
      ],
      "metadata": {
        "id": "2HZjJsDLgqEH"
      }
    },
    {
      "cell_type": "code",
      "source": [
        "class A:\n",
        "    def __init__(self, a):\n",
        "        self.a = a\n",
        " \n",
        "    # adding two objects\n",
        "    def __add__(self, o):\n",
        "        return self.a + o.a\n",
        "ob1 = A(1)\n",
        "ob2 = A(2)\n",
        "ob3 = A(\"Ineuron\")\n",
        "ob4 = A(\"FSDS\")\n",
        " \n",
        "print(ob1 + ob2)\n",
        "print(ob3 + ob4)\n",
        "# Actual working when Binary Operator is used.\n",
        "print(A.__add__(ob1 , ob2))\n",
        "print(A.__add__(ob3,ob4))\n",
        "#And can also be Understand as :\n",
        "print(ob1.__add__(ob2))\n",
        "print(ob3.__add__(ob4))"
      ],
      "metadata": {
        "colab": {
          "base_uri": "https://localhost:8080/"
        },
        "id": "HAoiKo9mgrfk",
        "outputId": "e77e84fa-1427-4b10-922d-bfde718a2fb8"
      },
      "execution_count": 1,
      "outputs": [
        {
          "output_type": "stream",
          "name": "stdout",
          "text": [
            "3\n",
            "IneuronFSDS\n",
            "3\n",
            "IneuronFSDS\n",
            "3\n",
            "IneuronFSDS\n"
          ]
        }
      ]
    },
    {
      "cell_type": "code",
      "source": [],
      "metadata": {
        "id": "QkzN-RQ_g3rs"
      },
      "execution_count": null,
      "outputs": []
    }
  ]
}