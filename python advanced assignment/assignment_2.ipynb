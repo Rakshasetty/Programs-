{
  "nbformat": 4,
  "nbformat_minor": 0,
  "metadata": {
    "colab": {
      "provenance": []
    },
    "kernelspec": {
      "name": "python3",
      "display_name": "Python 3"
    },
    "language_info": {
      "name": "python"
    }
  },
  "cells": [
    {
      "cell_type": "markdown",
      "source": [
        "Q1. What is the relationship between classes and modules?\n",
        "Ans: Classes provide an easy way of keeping the data members and methods together in one place which helps in keeping the program more organized. Using classes also provides another functionality of this object-oriented programming paradigm, that is, inheritance.\n",
        "\n",
        "Modules are simply files with the \". py\" extension containing Python code that can be imported inside another Python Program. In simple terms, we can consider a module to be the same as a code library or a file that contains a set of functions/Classes that you want to include in your program."
      ],
      "metadata": {
        "id": "fRy5JJT7b844"
      }
    },
    {
      "cell_type": "markdown",
      "source": [
        "Q2. How do you make instances and classes?\n",
        "Ans: For creating a class instance. we call a class by its name and pass the arguments which its \"init\" method accepts.\n",
        "\n",
        "Whereas for creating a class, we use the \"Class\" keyword. Class keyword is followed by classname and semicolon."
      ],
      "metadata": {
        "id": "AttEEinjcHlk"
      }
    },
    {
      "cell_type": "markdown",
      "source": [
        "Q3. Where and how should be class attributes created?\n",
        "Ans: Class attributes are the variables defined directly in the class that are shared by all objects of the class. Hence these attributes are usually created/defined in the top of class definiation outside all methods.\n",
        "\n",
        "Example: In the below example, count is an attribute in the Student class. Whenever a new object is created, the value of count is incremented by 1. You can now access the count attribute after creating the objects.\n",
        "\n",
        "class Student:\n",
        "\n",
        "count = 0\n",
        "\n",
        "def __init__(self):\n",
        "\n",
        "    Student.count += 1   "
      ],
      "metadata": {
        "id": "KdFZwBXBcX_E"
      }
    },
    {
      "cell_type": "code",
      "source": [],
      "metadata": {
        "id": "KDbnQWPfcdrK"
      },
      "execution_count": 5,
      "outputs": []
    },
    {
      "cell_type": "markdown",
      "source": [
        "Q4. Where and how are instance attributes created?\n",
        "Ans: Instances attributes are passed to the class when an object of the class is created. Unlike class attributes, instance attributes are not shared by all objects of the classs. instead each object maintains its own copy of instance attributes at object level. whereas incase of class attributes all instances of class refer to a single copy. Usually instance attributes are defined within the \"init\" method of class.\n",
        "\n",
        "Q5. What does the term \"self\" in a Python class mean?\n",
        "Ans: Self is the first argument to be passed in Constructor and Instance Method.\"self\" represents the instance of the class (it represents the object itself). By using the “self” keyword we can access the attributes and methods of the class with in the class in python. It binds the attributes with the given arguments.\n",
        "\n",
        "Q6. How does a Python class handle operator overloading?\n",
        "Ans: Python Classes handle operator overloading by using special methods called \"Magic methods\". these special methods usually begin and end with \"\" (double underscore)\n",
        "Example: \"+ = __add(self, other)\" , \"– = sub(self, other)\"\n",
        "\n",
        "\"* = mul(self, other)\" , \"/ = truediv(self, other)\"\n",
        "\n",
        "\"// = floordiv(self, other)\" , \"% = mod(self, other)\"\n",
        "\n",
        "\"** = pow(self, other)\" , \"& = and(self, other)\"\n",
        "\n",
        "\"| = or(self, other)\"\n",
        "\n",
        "Q7. When do you consider allowing operator overloading of your classes?\n",
        "Ans: When we want to have different meaning for the same operator accroding to the context we use operator overloading.\n",
        "\n",
        "Q8. What is the most popular form of operator overloading?\n",
        "Ans: The most popular form of operator overloading in python is by special methods called \"Magic methods\". Which usually beign and end with double underscore \"method name\"."
      ],
      "metadata": {
        "id": "oWgAw_kmcrqI"
      }
    },
    {
      "cell_type": "code",
      "source": [
        "class A:\n",
        "    def __init__(self,a):\n",
        "        self.a = a\n",
        "    def __add__(self,o):\n",
        "        return self.a+o.a\n",
        "obj1 = A(1)\n",
        "obj2 = A(2)\n",
        "obj3 = A('iNeuron')\n",
        "obj4 = A('FSDS')\n",
        "print(f'Sum = {obj1+obj2}')\n",
        "print(f'String Concatenation = {obj3+obj4}')"
      ],
      "metadata": {
        "colab": {
          "base_uri": "https://localhost:8080/"
        },
        "id": "OKKvs-GRcs74",
        "outputId": "afaf9f03-69bf-4a6c-b83a-b2ed1aa6c1f4"
      },
      "execution_count": 6,
      "outputs": [
        {
          "output_type": "stream",
          "name": "stdout",
          "text": [
            "Sum = 3\n",
            "String Concatenation = iNeuronFSDS\n"
          ]
        }
      ]
    },
    {
      "cell_type": "code",
      "source": [
        "Q9. What are the two most important concepts to grasp in order to comprehend Python OOP code?\n",
        "Ans: Inheritance, and Polymorphism are two of most important concepts to grasp in order to comprehend python OOP code."
      ],
      "metadata": {
        "id": "62ou2SZuc1o9"
      },
      "execution_count": 6,
      "outputs": []
    }
  ]
}