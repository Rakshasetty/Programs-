{
  "nbformat": 4,
  "nbformat_minor": 0,
  "metadata": {
    "colab": {
      "provenance": []
    },
    "kernelspec": {
      "name": "python3",
      "display_name": "Python 3"
    },
    "language_info": {
      "name": "python"
    }
  },
  "cells": [
    {
      "cell_type": "markdown",
      "source": [
        "1. What is the concept of an abstract superclass?\n",
        "Ans: An abstract class in Python is typically created to declare a set of methods that must be created in any child class built on top of this abstract class. A class which contains one or more abstract methods is called an abstract class.Whereas an abstract method is a method that has a declaration but does not have an implementation\n",
        "\n",
        "2. What happens when a class statement's top level contains a basic assignment statement?\n",
        "Ans: When a Class statement's top level contains a basic assignment statement, its usually treated as a class attribute or class level variable. where as assignment statements inside methods are treated as instance attributes or local attributes.\n",
        "\n",
        "3. Why does a class need to manually call a superclass's init method?\n",
        "Ans: if a child class has init method, then it will not inherit the \"init\" \n",
        "\n",
        " of the parent class or override the init method of parent class. so we have to manually call a parent superclass's \"init\" using \"super()\" method."
      ],
      "metadata": {
        "id": "STglMW59e-8z"
      }
    },
    {
      "cell_type": "code",
      "source": [
        "class Person:\n",
        "    def __init__(self,name,age):\n",
        "        self.name = name\n",
        "        self.age = age       \n",
        "class Employee(Person):\n",
        "    def __init__(self,name,age,salary):\n",
        "        super().__init__(name,age)\n",
        "        self.salary = salary\n",
        "emp = Employee('Devid',24,17000)\n",
        "print(emp.__dict__)"
      ],
      "metadata": {
        "colab": {
          "base_uri": "https://localhost:8080/"
        },
        "id": "evP_eLbFfEkx",
        "outputId": "138f9cfa-74cd-4816-89bd-74df8ca817cc"
      },
      "execution_count": 1,
      "outputs": [
        {
          "output_type": "stream",
          "name": "stdout",
          "text": [
            "{'name': 'Devid', 'age': 24, 'salary': 17000}\n"
          ]
        }
      ]
    },
    {
      "cell_type": "code",
      "source": [],
      "metadata": {
        "id": "YqqRbE_GfeHX"
      },
      "execution_count": null,
      "outputs": []
    },
    {
      "cell_type": "markdown",
      "source": [
        "4. How can you augment, instead of completely replacing, an inherited method?\n",
        "Ans: \"super()\" method can be used to augment, instead of completely replacing, an inherited method."
      ],
      "metadata": {
        "id": "FW76Ohfcfjo3"
      }
    },
    {
      "cell_type": "code",
      "source": [
        "class Person:\n",
        "    def __init__(self,name,age):\n",
        "        self.name = name\n",
        "        self.age = age       \n",
        "class Employee(Person):\n",
        "    def __init__(self,name,age,salary):\n",
        "        super().__init__(name,age)  #using super method\n",
        "        self.salary = salary\n",
        "emp = Employee('Devid',24,17000)\n",
        "print(emp.__dict__)     "
      ],
      "metadata": {
        "colab": {
          "base_uri": "https://localhost:8080/"
        },
        "id": "nJrR4gN2fnnq",
        "outputId": "33b67b8a-582d-4e51-f39a-54f385887164"
      },
      "execution_count": 3,
      "outputs": [
        {
          "output_type": "stream",
          "name": "stdout",
          "text": [
            "{'name': 'Devid', 'age': 24, 'salary': 17000}\n"
          ]
        }
      ]
    },
    {
      "cell_type": "code",
      "source": [],
      "metadata": {
        "id": "9ZQ089tAfuD5"
      },
      "execution_count": null,
      "outputs": []
    },
    {
      "cell_type": "markdown",
      "source": [
        "5. How is the local scope of a class different from that of a function?\n",
        "Ans: A Variable which is defined inside a function is local to that function. it is accesible from the point at which it is defined until the end of the function, and exists for as long as the function is existing.\n",
        "\n",
        "A variable inside of a class also has a local variable scope. Variables which are defined in the class body (but outside all methods) are called as class level variables or class attributes.They can also be accessed from outside."
      ],
      "metadata": {
        "id": "1EC_08gBfyCR"
      }
    },
    {
      "cell_type": "code",
      "source": [],
      "metadata": {
        "id": "aViU5VCwfzAZ"
      },
      "execution_count": null,
      "outputs": []
    }
  ]
}