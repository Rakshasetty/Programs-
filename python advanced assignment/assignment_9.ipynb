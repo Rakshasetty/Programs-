{
  "nbformat": 4,
  "nbformat_minor": 0,
  "metadata": {
    "colab": {
      "provenance": []
    },
    "kernelspec": {
      "name": "python3",
      "display_name": "Python 3"
    },
    "language_info": {
      "name": "python"
    }
  },
  "cells": [
    {
      "cell_type": "code",
      "execution_count": null,
      "metadata": {
        "id": "do0w3i9wlJfX"
      },
      "outputs": [],
      "source": []
    },
    {
      "cell_type": "markdown",
      "source": [
        "Q1. In Python 3.X, what are the names and functions of string object types?\n",
        "Ans: The following are some the names and functions of string object types in Python 3.X\n",
        "\n",
        "\"stirng.splitlines()\" - Returns a list of lines in the string.\n",
        "\"stirng.capitalize()\" - Returns the string with first character capitalized.\n",
        "\"stirng.upper()\" - Returns the string with all characters in uppercase.\n",
        "\"stirng.lower()\" - Returns the string with all characters in lowercase\n",
        "\"stirng.count(char)\" - Returns the no of occurances of the char in the given string.\n",
        "\"stirng.split(sep)\" - Returns list of words seperated by given sep else seperated by whitespace.\n",
        "\"stirng.lstrip()\" - Returns a copy of where leading whitespaces are removed.\n",
        "\"stirng.rstrip()\" - Returns a copy of where trailed whitespaces are removed.\n",
        "\"stirng.isdecimal()\" - Returns True if all characters in a string are decimal.\n",
        "\"stirng.isalnum()\" - Returns True if all characters in the string are AlphaNumeric.\n",
        "\"stirng.istitle()\" - Returns True if first character in a string is in Uppercase.\n",
        "\"stirng.partition(<sub_string>)\" - Splits string at first occurance of sub string and returns a tuple of 3 elements.\n",
        "\"stirng.rpartition(<sub_string>)\" - Splits string at last occurance of sub string and returns a tuple of 3 elements.\n",
        "\"stirng.isidentifier()\" - Returns True if give string is a valid identifier name.\n",
        "\"len(stirng)\" - Returns the length of the given string.\n",
        "\"stirng.index(<sub_string>)\" - Returns the lowest index of substring if substring is found in the string.\n",
        "\"stirng.rindex(<sub_string>)\" - Returns the highest index of substring if substring is found in the string.\n",
        "\"max(stirng)\" - Returns the highest Alphabetical Character in the string as per ASCII.\n",
        "\"min(stirng)\" - Returns the lowest Alphabetical Character in the string as per ASCII.\n",
        "\"stirng.strip()\" - Returns a copy of where both leading and trailing whitespaces are removed.\n",
        "\"stirng.join(list)\" - Concatenates a list or tuple of words with intervening occuernces of sep.\n",
        "\"stirng.replace(char_1,char_2)\" - Replace all occurances of char_1 with char_2 in string.\n",
        "\"stirng.encode()\" - Encodes string into any encoding supported by python. Default encoding is \"UTF-8\".\n",
        "\"stirng.ljust(no_of_spaces)\" - Left-justify in a field of given width.\n",
        "\"stirng.rjust(no_of_spaces)\" - Right-justify in a field of given width.\n",
        "\"stirng.center(<no_of_spaces>)\" - Center-justify in a field of given width.\n",
        "Q2. How do the string forms in Python 3.X vary in terms of operations?\n",
        "Ans: In Python3 default format of strings is Unicode Whereas in Pyton2 we need to explicitly mention Unicode value using 'u'.\n",
        "\n",
        "Q3. In Python 3.X, how do you put non-ASCII Unicode characters in a string?\n",
        "Ans: In Python 3.x \"unidecode()\" method from unidecode library can be used to put non-ASCII Unicode Characters in a string.\n",
        "\n",
        "Q4. In Python 3.X, what are the key differences between text-mode and binary-mode files?\n",
        "Ans: The major difference between these two is that a text file contains textual information in the form of alphabets, digits and special characters or symbols. On the other hand, a binary file contains bytes or a compiled version of a text file.\n",
        "\n",
        "There are mainly two types of data files — text file and binary file. A text file consists of human readable characters, which can be opened by any text editor. On the other hand, binary files are made up of non-human readable characters and symbols, which require specific programs to access its contents.\n",
        "Q5. How can you interpret a Unicode text file containing text encoded in a different encoding than your platform's default?\n",
        "Ans: Use of \"encode()\" and \"decode()\" method can be used to you interpret a Unicode text file containing text encoded in a different encoding than your platform's default, by default encoding parameter is \"UTF-8\"\n",
        "\n",
        "Q6. What is the best way to make a Unicode text file in a particular encoding format?\n",
        "Ans: Use \"str.encode()\" and \"file.write()\" to make a Unicode text file in a particular encoding format, default encoding format is \"UTF-18\".\n",
        "\n",
        "Call \"str.encode(encoding)\" with encoding set to \"utf8\" to encode str.\n",
        "Call \"open(file, mode)\" to open a file with mode set to \"wb\" . \"wb\" writes to files in binary mode & preserves UTF-8format.\n",
        "Call \"file.write(data)\" to write data to the file.\n",
        "Q7. What qualifies ASCII text as a form of Unicode text?\n",
        "Ans:\"Unicode\" represents most written languages in the world. \"ASCII\" has its equivalent in Unicode. The difference between ASCII and Unicode is that ASCII represents 'lowercase letters (a-z)', 'uppercase letters (A-Z)', 'digits (0–9)' and symbols such as punctuation marks while Unicode represents letters of English, Arabic, Greek etc. mathematical symbols, historical scripts, emoji covering a wide range of characters than ASCII.\n",
        "\n",
        "Q8. How much of an effect does the change in string types in Python 3.X have on your code?\n",
        "Ans: Python 3 stores strings as Unicode by default whereas Python 2 requires you to mark a string with a \"u\" if you want to store it as Unicode. Unicode strings are more versatile than ASCII strings, which are the Python 3.X default."
      ],
      "metadata": {
        "id": "bNjexsTglsJZ"
      }
    },
    {
      "cell_type": "code",
      "source": [],
      "metadata": {
        "id": "Igw4jPPiltR-"
      },
      "execution_count": null,
      "outputs": []
    }
  ]
}