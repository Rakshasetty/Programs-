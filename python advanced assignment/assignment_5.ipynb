{
  "nbformat": 4,
  "nbformat_minor": 0,
  "metadata": {
    "colab": {
      "provenance": []
    },
    "kernelspec": {
      "name": "python3",
      "display_name": "Python 3"
    },
    "language_info": {
      "name": "python"
    }
  },
  "cells": [
    {
      "cell_type": "code",
      "execution_count": null,
      "metadata": {
        "id": "8pE2_u6miCTk"
      },
      "outputs": [],
      "source": []
    },
    {
      "cell_type": "markdown",
      "source": [
        "Q1. What is the meaning of multiple inheritance?\n",
        "Ans: Inheritence is nothing but reusing the code of Parent class by the child class. Similary when a child class inherits its properties from multiple Parent classes this scenario is called \"Multiple Inheritence\""
      ],
      "metadata": {
        "id": "fDawwgxUiWN3"
      }
    },
    {
      "cell_type": "code",
      "source": [
        "class Parent_one:\n",
        "    pass\n",
        "class Parent_two:\n",
        "    pass\n",
        "class child(Parent_one,Parent_two):\n",
        "    pass"
      ],
      "metadata": {
        "id": "gO6yfrvviXNv"
      },
      "execution_count": 3,
      "outputs": []
    },
    {
      "cell_type": "markdown",
      "source": [
        "Q2. What is the concept of delegation?\n",
        "Ans: The delegation pattern is an object-oriented design pattern that allows object composition to achieve the same code reuse as inheritance.Simply Delegation means that you can include a instance of another class as an instance variable, and forward messages to the instance.\n",
        "\n",
        "Q3. What is the concept of composition?\n",
        "Ans: In the concept of Composition, a class refers to one or more other classes by using instances of those classes as a instance variable. irrespective of inheritence in this approach all the parent class members are not inherited into child class, but only required methods from a class are used by using class instances."
      ],
      "metadata": {
        "id": "Xv2nK_7MijIO"
      }
    },
    {
      "cell_type": "code",
      "source": [],
      "metadata": {
        "id": "c9cYH9ciikWu"
      },
      "execution_count": null,
      "outputs": []
    },
    {
      "cell_type": "markdown",
      "source": [
        "Q4. What are bound methods and how do we use them?\n",
        "Ans: If a function is an attribute of class and it is accessed via the instances, they are called \"bound methods\". A bound method is one that has \"self\" as its first argument. Since these are dependent on the instance of classes, these are also known as \"instance methods\".\n",
        "\n",
        "Q5. What is the purpose of pseudoprivate attributes?\n",
        "Ans: Within a class method in Python, whenever a method assigns to a self attribute (e.g., self.attr=value), it changes or creates an attribute in the instance (inheritance search only happens on reference, not assignment). Because this is true even if multiple classes in a hierarchy assign to the same attribute, collisions are possible.Pseudoprivate names also prevent subclasses from accidentally redefining the internal method's names."
      ],
      "metadata": {
        "id": "b-v173iFitRO"
      }
    },
    {
      "cell_type": "code",
      "source": [
        "# Creating a Base class\n",
        "class Base:\n",
        " \n",
        "    # Declaring public method\n",
        "    def fun(self):\n",
        "        print(\"Public method\")\n",
        " \n",
        "    # Declaring private method\n",
        "    def __fun(self):\n",
        "        print(\"Private method\")\n",
        "    \n",
        "    # Calling private method via\n",
        "    # another method    \n",
        "    def help(self):\n",
        "        self.__fun()\n",
        " # Creating a derived class\n",
        " \n",
        "class Derived(Base):\n",
        "    def __init__(self):\n",
        " \n",
        "        # Calling constructor of\n",
        "        # Base class\n",
        "        Base.__init__(self)\n",
        " \n",
        "    def call_public(self):\n",
        " \n",
        "        # Calling public method of base class\n",
        "        print(\"\\nInside derived class\")\n",
        "        self.fun()\n",
        " \n",
        "    def call_private(self):\n",
        " \n",
        "        # Calling private method of base class\n",
        "        self.__fun()\n",
        "\n",
        " #Driver code\n",
        "obj1 = Base()\n",
        " \n",
        "obj1.fun()\n",
        "obj1.help() #calling private method via another method\n",
        "#obj1.__fun() #will raise an AttributeError\n",
        "\n",
        " \n",
        "obj2 = Derived()\n",
        "obj2.call_public()\n",
        "obj2.help()\n",
        "\n",
        "#obj2.call_private()  # will also raise an AttributeError"
      ],
      "metadata": {
        "colab": {
          "base_uri": "https://localhost:8080/"
        },
        "id": "XKjdMspuiuT2",
        "outputId": "fb30d125-2bac-4a50-ee46-600f919e39da"
      },
      "execution_count": 4,
      "outputs": [
        {
          "output_type": "stream",
          "name": "stdout",
          "text": [
            "Public method\n",
            "Private method\n",
            "\n",
            "Inside derived class\n",
            "Public method\n",
            "Private method\n"
          ]
        }
      ]
    },
    {
      "cell_type": "code",
      "source": [],
      "metadata": {
        "id": "THip-PgOizXi"
      },
      "execution_count": null,
      "outputs": []
    }
  ]
}