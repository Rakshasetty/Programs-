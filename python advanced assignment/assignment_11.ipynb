{
  "nbformat": 4,
  "nbformat_minor": 0,
  "metadata": {
    "colab": {
      "provenance": []
    },
    "kernelspec": {
      "name": "python3",
      "display_name": "Python 3"
    },
    "language_info": {
      "name": "python"
    }
  },
  "cells": [
    {
      "cell_type": "markdown",
      "source": [
        "Q1. What is the concept of a metaclass?\n",
        "Ans: Metaclass in Python is a class of a class that defines how a class behaves. A class is itself a instance of Metaclass, and any Instance of Class in Python is an Instance of type metaclass. E.g. Type of of 'int', 'str', 'float', 'list', 'tuple' and many more is of metaclass type.\n",
        "\n",
        "Q2. What is the best way to declare a class's metaclass?\n",
        "Ans: A way to declare a class's metaclass is by using metaclass keyword in class definition.\n",
        "\n",
        "Q3. How do class decorators overlap with metaclasses for handling classes ?\n",
        "Ans: Anything you can do with a class decorator, you can of course do with a custom metaclasses (just apply the functionality of the \"decorator function\", i.e., the one that takes a class object and modifies it, in the course of the metaclass's _ _ new _ _ or _ _ init _ _ that make the class object!).\n",
        "\n",
        "Q4. How do class decorators overlap with metaclasses for handling instances?\n",
        "Ans: Anything you can do with a class decorator, you can of course do with a custom metaclass (just apply the functionality of the \"decorator function\", the one that takes a class object and modifies it, in the course of the metaclass's _ _ new _ _ or _ _ init _ _ that make the class object!)."
      ],
      "metadata": {
        "id": "hCbKGI24omY7"
      }
    }
  ]
}