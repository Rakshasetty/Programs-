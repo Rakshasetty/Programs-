{
  "nbformat": 4,
  "nbformat_minor": 0,
  "metadata": {
    "colab": {
      "provenance": []
    },
    "kernelspec": {
      "name": "python3",
      "display_name": "Python 3"
    },
    "language_info": {
      "name": "python"
    }
  },
  "cells": [
    {
      "cell_type": "code",
      "execution_count": null,
      "metadata": {
        "id": "Kk_D4VlGmxww"
      },
      "outputs": [],
      "source": []
    },
    {
      "cell_type": "markdown",
      "source": [
        "Q1. What is the purpose of Python's OOP?\n",
        "Ans: OOP stands for \"Object-Oriented Programming\". As you can guess from it’s name it breaks the program on the basis of the objects in it. It mainly works on Class, Object, Polymorphism, Abstraction, Encapsulation and Inheritance. Its aim is to bind together the data and functions to operate on them.\n",
        "\n",
        "some important purpose:\n",
        "\n",
        "We can build the programs from standard working modules that communicate with one another, rather than having to start writing the code from scratch which leads to saving of development time and higher productivity,\n",
        "OOP language allows to break the program into the bit-sized problems that can be solved easily (one object at a time).\n",
        "The new technology promises greater programmer productivity, better quality of software and lesser maintenance cost.\n",
        "OOP systems can be easily upgraded from small to large systems.\n",
        "It is possible that multiple instances of objects co-exist without any interference,\n",
        "It is very easy to partition the work in a project based on objects.\n",
        "The principle of data hiding helps the programmer to build secure programs which cannot be invaded by the code in other parts of the program.\n",
        "By using inheritance, we can eliminate redundant code and extend the use of existing classes.\n",
        "Q2. Where does an inheritance search look for an attribute?\n",
        "Ans: It first searches for the attribute in its instance and then looks in the class it is generated from, to all super classes listed in its class header.\n",
        "\n",
        "Q3. How do you distinguish between a class object and an instance object?\n",
        "Ans: The differences between a class object and an instance object are:\n",
        "\n",
        "Class is a template for creating objects whereas object is an instance of class\n",
        "Seperate memory is allocated for each object whenever an object is created. but for a class this doesnot happens.\n",
        "A Class is created once. Many objects are created using a class.\n",
        "As Classes have no allocated memory. they can't be manipulated. but objects can be manipulated.\n",
        "Q4. What makes the first argument in a class’s method function special?\n",
        "Ans: \"self\" is the first argument for instance methods. which refers to the object itself.\n",
        "\n",
        "\"cls\" is the first argument for class methods which refers to the class itself.\n",
        "Q5. What is the purpose of the init method?\n",
        "Ans: \"init\" is a reseved method in python classes. It serves the role of a constructor in object oriented terminology. This method is called when an object is created from a class and it allows the class to initialize the attributes of the class.\n",
        "\n",
        "Q6. What is the process for creating a class instance?\n",
        "Ans: To create a class instance, we need to call the class by its name and pass the arguments to the class, which we have passed in its init method.\n",
        "\n",
        "Q7. What is the process for creating a class?\n",
        "Ans:\"class\" keyword is used to created a class in python. The syntax to create a class in python is \"class classname:\"\n",
        "\n",
        "Q8. How would you define the superclasses of a class?\n",
        "Ans: A superclass is the class from which many subclasses can be created. The subclasses inherit the characteristics of a superclass. The superclass is also known as the parent class or base class.\n",
        "\n",
        "Ex: \"class Car(Vehicle):\" Here child class \"Car\" inherits attributes and methods from Superclass/Parent \"Vehicle\""
      ],
      "metadata": {
        "id": "B5ZU9w5imyuJ"
      }
    },
    {
      "cell_type": "code",
      "source": [],
      "metadata": {
        "id": "KdQamAmCmz0o"
      },
      "execution_count": null,
      "outputs": []
    }
  ]
}