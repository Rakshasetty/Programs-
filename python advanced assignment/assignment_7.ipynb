{
  "nbformat": 4,
  "nbformat_minor": 0,
  "metadata": {
    "colab": {
      "provenance": []
    },
    "kernelspec": {
      "name": "python3",
      "display_name": "Python 3"
    },
    "language_info": {
      "name": "python"
    }
  },
  "cells": [
    {
      "cell_type": "code",
      "execution_count": null,
      "metadata": {
        "id": "42OCX4grj_Bb"
      },
      "outputs": [],
      "source": []
    },
    {
      "cell_type": "markdown",
      "source": [
        "Q1. What is the purpose of the try statement?\n",
        "Ans:The try block lets you test a block of code for errors. If any error present in try block Then except block handle the error. The else block lets you execute code when there is no error."
      ],
      "metadata": {
        "id": "vgF1AxankMLd"
      }
    },
    {
      "cell_type": "code",
      "source": [
        "try:\n",
        "    print(10/0)\n",
        "except ZeroDivisionError:\n",
        "    print('Division by Zero is Not Possible')"
      ],
      "metadata": {
        "colab": {
          "base_uri": "https://localhost:8080/"
        },
        "id": "3d8rZ1JDkNdi",
        "outputId": "cfb3db93-b8bb-49af-95da-496cbbbc3463"
      },
      "execution_count": 1,
      "outputs": [
        {
          "output_type": "stream",
          "name": "stdout",
          "text": [
            "Division by Zero is Not Possible\n"
          ]
        }
      ]
    },
    {
      "cell_type": "markdown",
      "source": [
        "Q2. What are the two most popular try statement variations?\n",
        "Ans:\n",
        "\n",
        "try , except\n",
        "try , except , finally\n",
        "The \"try\" block is used to check code for exceptions during runtime. where as code inside \"try\" block will execute completely when there is no error in the program. Whereas the code inside \"except\" block will execute whenever the program encounters some error in the preceeding \"try\" block.The code in the \"finally\" block will execute irrespective of exception.\n",
        "\n",
        "Q3. What is the purpose of the raise statement?\n",
        "Ans:The raise keyword is used to raise an exception. You can define what kind of error to raise, and the text to print to the user.As per your program requirements.\n",
        "\n",
        "Q4. What does the assert statement do, and what other statement is it like?\n",
        "Ans: The assert keyword lets you test if a condition in your code returns True, if not, the program will raise an AssertionError. You can write a message to be written if the code returns False."
      ],
      "metadata": {
        "id": "uPvLMavtkfyH"
      }
    },
    {
      "cell_type": "code",
      "source": [
        "assert('a' == 7), 'this is not a valid statement'"
      ],
      "metadata": {
        "colab": {
          "base_uri": "https://localhost:8080/",
          "height": 172
        },
        "id": "-bVkfA3xkiIg",
        "outputId": "389f521e-90fa-4e7f-8f0c-c72b6cfe8702"
      },
      "execution_count": 3,
      "outputs": [
        {
          "output_type": "error",
          "ename": "AssertionError",
          "evalue": "ignored",
          "traceback": [
            "\u001b[0;31m---------------------------------------------------------------------------\u001b[0m",
            "\u001b[0;31mAssertionError\u001b[0m                            Traceback (most recent call last)",
            "\u001b[0;32m<ipython-input-3-00aa82db1ece>\u001b[0m in \u001b[0;36m<module>\u001b[0;34m\u001b[0m\n\u001b[0;32m----> 1\u001b[0;31m \u001b[0;32massert\u001b[0m\u001b[0;34m(\u001b[0m\u001b[0;34m'a'\u001b[0m \u001b[0;34m==\u001b[0m \u001b[0;36m7\u001b[0m\u001b[0;34m)\u001b[0m\u001b[0;34m,\u001b[0m \u001b[0;34m'this is not a valid statement'\u001b[0m\u001b[0;34m\u001b[0m\u001b[0;34m\u001b[0m\u001b[0m\n\u001b[0m",
            "\u001b[0;31mAssertionError\u001b[0m: this is not a valid statement"
          ]
        }
      ]
    },
    {
      "cell_type": "markdown",
      "source": [
        "Q5. What is the purpose of the with/as argument, and what other statement is it like?\n",
        "Ans:In Python, the with statement replaces a try-catch block with a concise shorthand. More importantly, it ensures closing resources right after processing them.This avoids triggering of exceptions if file closing is unknowingly forgotten in the code execution. A common example of using the with statement is reading or writing to a file."
      ],
      "metadata": {
        "id": "8awnd2RZkvbE"
      }
    },
    {
      "cell_type": "code",
      "source": [],
      "metadata": {
        "id": "Wyn0Ucp1kwo9"
      },
      "execution_count": null,
      "outputs": []
    }
  ]
}